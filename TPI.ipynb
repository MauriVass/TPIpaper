{
 "cells": [
  {
   "cell_type": "code",
   "execution_count": null,
   "metadata": {},
   "outputs": [],
   "source": [
    "import os\n",
    "import numpy as np\n",
    "import pandas as pd\n",
    "import ast\n",
    "import matplotlib.pyplot as plt"
   ]
  },
  {
   "cell_type": "markdown",
   "metadata": {},
   "source": [
    "# Utility Functions"
   ]
  },
  {
   "cell_type": "code",
   "execution_count": 164,
   "metadata": {},
   "outputs": [],
   "source": [
    "def Subset(E,t):\n",
    "    if(isinstance(t, list)):\n",
    "        return E[E['type'].isin(t)]\n",
    "    else:\n",
    "        return E[E.type==t]\n",
    "\n",
    "def euclidean_distance(a, b):\n",
    "    return np.linalg.norm(np.array(a) - np.array(b))\n",
    "\n",
    "def Dist(ei, ej):\n",
    "    # Convert single points to a list for uniform handling\n",
    "    if not isinstance(ei, list):\n",
    "        ei = [ei]\n",
    "    if not isinstance(ej, list):\n",
    "        ej = [ej]\n",
    "    # Calculate minimum distance\n",
    "    return min(euclidean_distance(a, b) for a in ei for b in ej)\n",
    "\n",
    "def Closest(e, S, R=np.inf):\n",
    "    min_distance = [float('inf'),float('inf')]\n",
    "    closest_point = [-1,-1]\n",
    "\n",
    "    for i,s in S.iterrows():\n",
    "        if(e.name != s.name):\n",
    "            if(isinstance(e.coor, tuple)):\n",
    "                distance = Dist(e.coor, s.coor)\n",
    "                if distance <= min_distance[0] and distance < R:\n",
    "                    min_distance[0] = distance\n",
    "                    closest_point[0] = i\n",
    "            else:\n",
    "                for coor_ind in [0,-1]:\n",
    "                    c = e.coor[coor_ind]\n",
    "                    distance = Dist(c, s.coor)\n",
    "                    if distance <= min_distance[coor_ind] and distance < R:\n",
    "                        min_distance[coor_ind] = distance\n",
    "                        closest_point[np.abs(coor_ind)] = i\n",
    "    closest_point = [i for i in closest_point if i!=-1]\n",
    "    return closest_point\n",
    "\n",
    "def ReadFiles(folder_path, symbol='e'):\n",
    "    elements = pd.DataFrame()\n",
    "\n",
    "    for filename in sorted(os.listdir(folder_path)):\n",
    "        if filename.endswith('.csv'):\n",
    "            file_path = os.path.join(folder_path, filename)\n",
    "            print(file_path)\n",
    "\n",
    "            df = pd.read_csv(file_path, delimiter=';')\n",
    "\n",
    "            df['coor'] = df['coor'].apply(ast.literal_eval)\n",
    "            df['type'] = filename[2:-5]\n",
    "\n",
    "            elements = pd.concat([elements,df], ignore_index=True)\n",
    "    id_column = 'ID'\n",
    "    elements[id_column] = [f\"{symbol}{i+1}\" for i in range(len(elements))]\n",
    "    elements['connections'] = None\n",
    "    elements.insert(0, id_column, elements.pop(id_column))\n",
    "\n",
    "    return elements\n",
    "\n",
    "def PlotElements(df):\n",
    "    fig, ax = plt.subplots(figsize=(10, 8))\n",
    "\n",
    "    for index, row in df.iterrows():\n",
    "        if isinstance(row['coor'], list):\n",
    "            line_coords = list(zip(*row['coor']))\n",
    "            ax.plot(line_coords[0], line_coords[1], marker='o', label=row['name'])\n",
    "        else:\n",
    "            ax.plot(row['coor'][0], row['coor'][1], marker='o', label=row['name'])\n",
    "\n",
    "    ax.set_xlabel('X [m]')\n",
    "    ax.set_ylabel('Y [m]')\n",
    "    ax.legend()\n",
    "\n",
    "    plt.show()\n",
    "\n",
    "def StoreHinFile(file_path,hypothetical_paths,elements):\n",
    "    print(\"Number of hypothetical paths:\", len(hypothetical_paths))\n",
    "    with open(file_path, 'w') as fp:\n",
    "        # fp.write(\"\\n\".join(str(item) for item in hypothetical_paths))\n",
    "        fp.write(\"\\n\".join(str(elements.iloc[item].name.values) for item in hypothetical_paths))"
   ]
  },
  {
   "cell_type": "markdown",
   "metadata": {},
   "source": [
    "# Raw Information"
   ]
  },
  {
   "cell_type": "markdown",
   "metadata": {},
   "source": [
    "- I = {\n",
    "    - i_1: A document containing the DSO's list of elements, their coordinates, and their types. Some elements may be missing, and the coordinates may be inaccurate.\n",
    "\n",
    "    - i_2: The DSOs lack of information about the customers connections to the network and goal to minimise the cost of connecting customers to the grid. \n",
    "    - i_3: A technical meeting stating that for economical and efficiency factors, the connections between two elements must be not too long.\n",
    "    - i_3: Information regarding the radial configuration of the distribution network.\n",
    "    - i_4: DSOs goal to reduce energy losses by minimising the path length of each customer.\n",
    "    - i_5: The knowledge that electricity distributed from one transformer cannot be transmitted to another transformer.  \n",
    "}"
   ]
  },
  {
   "cell_type": "markdown",
   "metadata": {},
   "source": [
    "# Well-Defined Information"
   ]
  },
  {
   "cell_type": "markdown",
   "metadata": {},
   "source": [
    "- $I'$ = {\n",
    "    - $i'_1 = f_1(i_1)$: Sets of elements, their properties like coordinates and types.\n",
    "    - $i'_2 = f_2(i_2)$: Elements of type $customer$ are connected to the closest element of type $line$.\n",
    "    - $i'_3 = f_3(i_3)$: Elements of type $transformer$, $line$ and $switch$ cannot be connected to an element whose distance calculated using the elements GIS coordinates is greater than $R$.\n",
    "    - $i'_4  = f_4(i_4)$: The total length of a path, defined as the sum of the lengths of the single lines, is at most $L$.  \n",
    "}"
   ]
  },
  {
   "cell_type": "markdown",
   "metadata": {},
   "source": [
    "# Read Elements"
   ]
  },
  {
   "cell_type": "code",
   "execution_count": null,
   "metadata": {},
   "outputs": [],
   "source": [
    "#Set of all Real Elements. These elements represent all the elements that is possible to find in the academic example\n",
    "real_elements = ReadFiles(\"RealElements\")\n",
    "real_types = set(real_elements.type)\n",
    "#Set of all DSO Elements. These elements represent the elements that is DSO knows about\n",
    "elements = ReadFiles(\"DSOElements\", symbol=\"hat{e}\")\n",
    "types = set(elements.type)"
   ]
  },
  {
   "cell_type": "code",
   "execution_count": null,
   "metadata": {},
   "outputs": [],
   "source": [
    "real_elements"
   ]
  },
  {
   "cell_type": "code",
   "execution_count": null,
   "metadata": {},
   "outputs": [],
   "source": [
    "PlotElements(real_elements)"
   ]
  },
  {
   "cell_type": "code",
   "execution_count": null,
   "metadata": {},
   "outputs": [],
   "source": [
    "elements"
   ]
  },
  {
   "cell_type": "markdown",
   "metadata": {},
   "source": [
    "# Hypothetical Paths"
   ]
  },
  {
   "cell_type": "code",
   "execution_count": null,
   "metadata": {},
   "outputs": [],
   "source": [
    "from itertools import permutations\n",
    "\n",
    "def calculate_hypothetical_paths(E, C, T):\n",
    "    R = list(set(E) - set(C) - set(T))\n",
    "    R.sort()\n",
    "    print(f\"E set: {E}. Len: {len(E)}\")\n",
    "    print(f\"C set: {C}. Len: {len(C)}\")\n",
    "    print(f\"T set: {T}. Len: {len(T)}\")\n",
    "    print(f\"R set: {R}. Len: {len(R)}\")\n",
    "    H = []\n",
    "\n",
    "    for i in range(len(R) + 1):\n",
    "        for permutation in permutations(R, i):\n",
    "            for c in C:\n",
    "                for t in T:\n",
    "                    path = [c] + [p for p in permutation] + [t]\n",
    "                    H.append(path)\n",
    "\n",
    "    return H\n",
    "\n",
    "E = elements.index.values\n",
    "C = Subset(elements,'customer').index.values\n",
    "T = Subset(elements,'transformer').index.values\n",
    "\n",
    "hypothetical_paths = calculate_hypothetical_paths(E, C, T)"
   ]
  },
  {
   "cell_type": "code",
   "execution_count": null,
   "metadata": {},
   "outputs": [],
   "source": [
    "StoreHinFile('hypotheticalpaths.txt', hypothetical_paths, elements)"
   ]
  },
  {
   "cell_type": "markdown",
   "metadata": {},
   "source": [
    "# Hypothetical Paths Compatible with the Well-Defined Information"
   ]
  },
  {
   "cell_type": "markdown",
   "metadata": {},
   "source": [
    "## $H^{i'_2}$"
   ]
  },
  {
   "cell_type": "code",
   "execution_count": null,
   "metadata": {},
   "outputs": [],
   "source": [
    "elements = ReadFiles(\"DSOElements\", symbol=\"hat{e}\")"
   ]
  },
  {
   "cell_type": "code",
   "execution_count": null,
   "metadata": {},
   "outputs": [],
   "source": [
    "for i,c in Subset(elements, \"customer\").iterrows():\n",
    "    possible_elements = Subset(elements, list(types.difference([\"customer\"])))\n",
    "    closest_element = Closest(c, possible_elements)\n",
    "    elements.at[i, 'connections'] = closest_element\n",
    "    elements.at[closest_element[0], 'connections'] = [i]"
   ]
  },
  {
   "cell_type": "code",
   "execution_count": null,
   "metadata": {},
   "outputs": [],
   "source": [
    "hp = hypothetical_paths\n",
    "compatible_hp = list(hp)\n",
    "length_H_before = len(hp)\n",
    "print(f'Length H before: {length_H_before}')\n",
    "\n",
    "paths_removed = 0\n",
    "for id_path,h in enumerate(hp):\n",
    "    for id_customer,c in Subset(elements, \"customer\").iterrows():\n",
    "        if(h[0]==id_customer and h[1]!=c['connections'][0]):\n",
    "            compatible_hp.pop(id_path-paths_removed)\n",
    "            paths_removed+=1\n",
    "length_H_after = len(compatible_hp)\n",
    "print(f'Length H after: {length_H_after}. Reduction: {((length_H_before-length_H_after)/length_H_before*100):.2f}%')\n",
    "compatible_hypothetical_paths_i2 = compatible_hp"
   ]
  },
  {
   "cell_type": "markdown",
   "metadata": {},
   "source": [
    "## $H^{i'_2, i'_3}$"
   ]
  },
  {
   "cell_type": "code",
   "execution_count": null,
   "metadata": {},
   "outputs": [],
   "source": [
    "elements"
   ]
  },
  {
   "cell_type": "code",
   "execution_count": null,
   "metadata": {},
   "outputs": [],
   "source": [
    "R = 40\n",
    "for t in list(types.difference([\"customer\"])):\n",
    "    for index,elem in Subset(elements, t).iterrows():\n",
    "        possible_elements = Subset(elements, list(types.difference([\"customer\"])))\n",
    "        closest_elements = Closest(elem, possible_elements, R=R)\n",
    "        \n",
    "        #Adding connections to element: elem\n",
    "        existing_connections = elem.connections\n",
    "        if(existing_connections):\n",
    "            for c in closest_elements:\n",
    "                if(c not in existing_connections):\n",
    "                    existing_connections.append(c)\n",
    "            elements.at[index, f'connections'] = existing_connections\n",
    "        else:\n",
    "            elements.at[index, f'connections'] = closest_elements\n",
    "\n",
    "        #Adding connections to element(s) in closest_elements\n",
    "        for c in closest_elements:\n",
    "            existing_connections = elements.iloc[c].connections\n",
    "            if(existing_connections):\n",
    "                if(index not in existing_connections):\n",
    "                    existing_connections.append(index)\n",
    "                elements.at[c, f'connections'] = existing_connections\n",
    "            else:\n",
    "                elements.at[c, f'connections'] = [index]"
   ]
  },
  {
   "cell_type": "code",
   "execution_count": null,
   "metadata": {},
   "outputs": [],
   "source": [
    "hp = compatible_hypothetical_paths_i2\n",
    "compatible_hp = list(hp)\n",
    "length_H_before = len(hp)\n",
    "print(f'Length H before: {length_H_before}')\n",
    "ds = []\n",
    "paths_removed = 0\n",
    "for id_path,h in enumerate(hp):\n",
    "    for i in range(1,len(h)-1):\n",
    "        h_ei = elements.iloc[h[i]].coor\n",
    "        h_ej = elements.iloc[h[i+1]].coor\n",
    "        d = Dist(h_ei,h_ej)\n",
    "        ds.append(d)\n",
    "        if(d>R):\n",
    "            compatible_hp.pop(id_path-paths_removed)\n",
    "            paths_removed+=1\n",
    "            break\n",
    "            \n",
    "length_H_after = len(compatible_hp)\n",
    "print(f'Length H after: {length_H_after}. Reduction: {((length_H_before-length_H_after)/length_H_before*100):.2f}%')\n",
    "compatible_hypothetical_paths_i2i3 = compatible_hp"
   ]
  },
  {
   "cell_type": "code",
   "execution_count": null,
   "metadata": {},
   "outputs": [],
   "source": [
    "plt.scatter(x=list(range(len(ds))), y=ds)"
   ]
  },
  {
   "cell_type": "markdown",
   "metadata": {},
   "source": [
    "## $H^{i'_2, i'_3, i'_4}$"
   ]
  },
  {
   "cell_type": "code",
   "execution_count": null,
   "metadata": {},
   "outputs": [],
   "source": [
    "L = 300\n",
    "\n",
    "hp = compatible_hypothetical_paths_i2i3\n",
    "compatible_hp = list(hp)\n",
    "length_H_before = len(hp)\n",
    "print(f'Length H before: {length_H_before}')\n",
    "\n",
    "paths_removed = 0\n",
    "for id_path,h in enumerate(hp):\n",
    "    l = 0\n",
    "    for i in range(len(h)-1):\n",
    "        h_ei = elements.iloc[h[i]].coor\n",
    "        h_ej = elements.iloc[h[i+1]].coor\n",
    "        d = Dist(h_ei,h_ej)\n",
    "        l += d\n",
    "        if(isinstance(h_ei,list)):\n",
    "            l+=Dist(h_ei[0],h_ei[-1])\n",
    "\n",
    "    if(l>L):\n",
    "        compatible_hp.pop(id_path-paths_removed)\n",
    "        paths_removed+=1\n",
    "            \n",
    "length_H_after = len(compatible_hp)\n",
    "print(f'Length H after: {length_H_after}. Reduction: {((length_H_before-length_H_after)/length_H_before*100):.2f}%')\n",
    "compatible_hypothetical_paths_i2i3i4 = compatible_hp"
   ]
  },
  {
   "cell_type": "markdown",
   "metadata": {},
   "source": [
    "## $H^{I'}$"
   ]
  },
  {
   "cell_type": "code",
   "execution_count": null,
   "metadata": {},
   "outputs": [],
   "source": [
    "hp = compatible_hypothetical_paths_i2i3\n",
    "compatible_hp = list(hp)\n",
    "length_H_before = len(hp)\n",
    "print(f'Length H before: {length_H_before}')\n",
    "\n",
    "paths_removed = 0\n",
    "for id_path,h in enumerate(hp):\n",
    "    l = 0\n",
    "    for i in range(len(h)):\n",
    "        if(isinstance(h_ei,list)):\n",
    "            l+=Dist(h_ei[0],h_ei[-1])\n",
    "\n",
    "    if(l>L):\n",
    "        compatible_hp.pop(id_path-paths_removed)\n",
    "        paths_removed+=1\n",
    "            \n",
    "length_H_after = len(compatible_hp)\n",
    "print(f'Length H after: {length_H_after}. Reduction: {((length_H_before-length_H_after)/length_H_before*100):.2f}%')\n",
    "compatible_hypothetical_paths_i2i3i4 = compatible_hp"
   ]
  },
  {
   "cell_type": "code",
   "execution_count": null,
   "metadata": {},
   "outputs": [],
   "source": [
    "compatible_hypothetical_paths_i2i3i4"
   ]
  },
  {
   "cell_type": "code",
   "execution_count": null,
   "metadata": {},
   "outputs": [],
   "source": []
  }
 ],
 "metadata": {
  "kernelspec": {
   "display_name": "Python 3.9.18 ('TPI')",
   "language": "python",
   "name": "python3"
  },
  "language_info": {
   "codemirror_mode": {
    "name": "ipython",
    "version": 3
   },
   "file_extension": ".py",
   "mimetype": "text/x-python",
   "name": "python",
   "nbconvert_exporter": "python",
   "pygments_lexer": "ipython3",
   "version": "3.9.18"
  },
  "orig_nbformat": 4,
  "vscode": {
   "interpreter": {
    "hash": "fa564d0f2a03dc94c7af0d2957412c12616e6a133e657fad4b1941849c6b5cc7"
   }
  }
 },
 "nbformat": 4,
 "nbformat_minor": 2
}
