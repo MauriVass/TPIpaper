{
 "cells": [
  {
   "cell_type": "code",
   "execution_count": null,
   "metadata": {},
   "outputs": [],
   "source": [
    "import os\n",
    "import numpy as np\n",
    "import pandas as pd\n",
    "import ast\n",
    "from shapely.geometry import Point, LineString"
   ]
  },
  {
   "cell_type": "markdown",
   "metadata": {},
   "source": [
    "# Utility Functions"
   ]
  },
  {
   "cell_type": "code",
   "execution_count": null,
   "metadata": {},
   "outputs": [],
   "source": [
    "def Subset(E,t):\n",
    "    return E[E.type==t]\n",
    "\n",
    "def euclidean_distance(a, b):\n",
    "    return np.linalg.norm(np.array(a) - np.array(b))\n",
    "\n",
    "def Dist(ei, ej):\n",
    "    # Convert single points to a list for uniform handling\n",
    "    if not isinstance(ei, list):\n",
    "        ei = [ei]\n",
    "    if not isinstance(ej, list):\n",
    "        ej = [ej]\n",
    "    # print(ei, ej)\n",
    "    # Calculate minimum distance\n",
    "    return min(euclidean_distance(a, b) for a in ei for b in ej)\n",
    "\n",
    "\n",
    "def Closest(e, S):\n",
    "    min_distance = float('inf')\n",
    "    closest_point = None\n",
    "\n",
    "    for _,s in S.iterrows():\n",
    "        distance = Dist(e.coor, s.coor)\n",
    "        print(e.coor, s.coor, distance)\n",
    "        if distance < min_distance:\n",
    "            min_distance = distance\n",
    "            closest_point = s\n",
    "\n",
    "    return closest_point\n",
    "\n",
    "def ReadFiles(folder_path, symbol='e'):\n",
    "    elements = pd.DataFrame()\n",
    "\n",
    "    for filename in sorted(os.listdir(folder_path)):\n",
    "        if filename.endswith('.csv'):\n",
    "            file_path = os.path.join(folder_path, filename)\n",
    "            print(file_path)\n",
    "\n",
    "            # Read the data using pandas\n",
    "            df = pd.read_csv(file_path, delimiter=';')\n",
    "\n",
    "            # Convert the 'coor' column to tuples\n",
    "            df['coor'] = df['coor'].apply(ast.literal_eval)\n",
    "            df['type'] = filename[2:-5]\n",
    "\n",
    "            # Append the data to the combined DataFrame\n",
    "            elements = pd.concat([elements,df], ignore_index=True)\n",
    "    elements['name'] = [f\"{symbol}{i+1}\" for i in range(len(elements))]\n",
    "    elements['next_element'] = None\n",
    "    elements.insert(0, 'name', elements.pop('name'))\n",
    "\n",
    "    return elements"
   ]
  },
  {
   "cell_type": "code",
   "execution_count": null,
   "metadata": {},
   "outputs": [],
   "source": [
    "for _,c in Subset(elements, \"customer\").iterrows():\n",
    "    e, d = Closest(c, elements[elements.index-Subset(elements, \"customers\")])\n",
    "    break\n",
    "    print(e, d)\n",
    "    print()"
   ]
  },
  {
   "cell_type": "markdown",
   "metadata": {},
   "source": [
    "# Raw Information"
   ]
  },
  {
   "cell_type": "markdown",
   "metadata": {},
   "source": [
    "- I = {\n",
    "    - i_1: A document containing the DSO's list of elements, their coordinates, and their types. Some elements may be missing, and the coordinates may be inaccurate.\n",
    "\n",
    "    - i_2: The DSOs lack of information about the customers connections to the network and goal to minimise the cost of connecting customers to the grid. \n",
    "    - i_3: A technical meeting stating that for economical and efficiency factors, the connections between two elements must be not too long.\n",
    "    - i_3: Information regarding the radial configuration of the distribution network.\n",
    "    - i_4: DSOs goal to reduce energy losses by minimising the path length of each customer.\n",
    "    - i_5: The knowledge that electricity distributed from one transformer cannot be transmitted to another transformer.  \n",
    "}"
   ]
  },
  {
   "cell_type": "markdown",
   "metadata": {},
   "source": [
    "# Well-Defined Information"
   ]
  },
  {
   "cell_type": "markdown",
   "metadata": {},
   "source": [
    "- $I'$ = {\n",
    "    - $i'_1 = f_1(i_1)$: Sets of elements, their properties like coordinates and types.\n",
    "    - $i'_2 = f_2(i_2)$: Elements of type $customer$ are connected to the closest element of type $line$.\n",
    "    - $i'_3 = f_3(i_3)$: Elements of type $transformer$, $line$ and $switch$ cannot be connected to an element whose distance calculated using the elements GIS coordinates is greater than $R$.\n",
    "    - $i'_4  = f_4(i_4)$: The total length of a path, defined as the sum of the lengths of the single lines, is at most $L$.  \n",
    "}"
   ]
  },
  {
   "cell_type": "markdown",
   "metadata": {},
   "source": [
    "# Read Elements"
   ]
  },
  {
   "cell_type": "code",
   "execution_count": null,
   "metadata": {},
   "outputs": [],
   "source": [
    "#Set of all Real Elements. These elements represent all the elements that is possible to find in the academic example\n",
    "real_elements = ReadFiles(\"RealElements\")\n",
    "#Set of all DSO Elements. These elements represent the elements that is DSO knows about\n",
    "elements = ReadFiles(\"DSOElements\", symbol=\"hat{e}\")"
   ]
  },
  {
   "cell_type": "code",
   "execution_count": null,
   "metadata": {},
   "outputs": [],
   "source": [
    "real_elements"
   ]
  },
  {
   "cell_type": "code",
   "execution_count": null,
   "metadata": {},
   "outputs": [],
   "source": [
    "elements"
   ]
  },
  {
   "cell_type": "markdown",
   "metadata": {},
   "source": [
    "# Hypothetical Paths"
   ]
  },
  {
   "cell_type": "code",
   "execution_count": null,
   "metadata": {},
   "outputs": [],
   "source": [
    "from itertools import permutations\n",
    "\n",
    "def calculate_hypothetical_paths(E, C, T):\n",
    "    R = list(set(E) - set(C) - set(T))\n",
    "    R.sort()\n",
    "    print(f\"E set: {E}. Len: {len(E)}\")\n",
    "    print(f\"C set: {C}. Len: {len(C)}\")\n",
    "    print(f\"T set: {T}. Len: {len(T)}\")\n",
    "    print(f\"R set: {R}. Len: {len(R)}\")\n",
    "    H = []\n",
    "\n",
    "    for i in range(len(R) + 1):\n",
    "        for permutation in permutations(R, i):\n",
    "            for c in C:\n",
    "                for t in T:\n",
    "                    path = [c] + [p for p in permutation] + [t]\n",
    "                    H.append(path)\n",
    "\n",
    "    return H\n",
    "\n",
    "# Example usage with sets E, C, and T\n",
    "E = elements.index.values\n",
    "C = Subset(elements,'customer').index.values\n",
    "# E = ('e_1', 'e_2', 'e_3', 'e_4', 'e_5', 'e_6', 'e_7', 'e_8', 'e_9')\n",
    "# C = [('e_12')]\n",
    "T = Subset(elements,'transformer').index.values\n",
    "\n",
    "hypothetical_paths = calculate_hypothetical_paths(E, C, T)"
   ]
  },
  {
   "cell_type": "code",
   "execution_count": null,
   "metadata": {},
   "outputs": [],
   "source": [
    "print(len(hypothetical_paths))\n",
    "with open(r'hypotheticalpaths.txt', 'w') as fp:\n",
    "    # fp.write(\"\\n\".join(str(item) for item in hypothetical_paths))\n",
    "    fp.write(\"\\n\".join(str(elements.iloc[item].name.values) for item in hypothetical_paths))"
   ]
  },
  {
   "cell_type": "markdown",
   "metadata": {},
   "source": [
    "# Hypothetical Paths Compatible with the Well-Defined Information"
   ]
  },
  {
   "cell_type": "markdown",
   "metadata": {},
   "source": [
    "## $H^{i'_2}$"
   ]
  },
  {
   "cell_type": "code",
   "execution_count": null,
   "metadata": {},
   "outputs": [],
   "source": [
    "for _,c in Subset(elements, \"customer\").iterrows():\n",
    "    possible_elements = elements.iloc[elements.index.difference(Subset(elements, \"customer\").index)]\n",
    "    e = Closest(c, possible_elements)\n",
    "    print(c, e)\n",
    "    print()"
   ]
  },
  {
   "cell_type": "code",
   "execution_count": null,
   "metadata": {},
   "outputs": [],
   "source": [
    "print(c, e)"
   ]
  },
  {
   "cell_type": "code",
   "execution_count": null,
   "metadata": {},
   "outputs": [],
   "source": [
    "import matplotlib.pyplot as plt\n",
    "\n",
    "# Plotting\n",
    "fig, ax = plt.subplots(figsize=(10, 8))\n",
    "df = elements\n",
    "\n",
    "for index, row in df.iterrows():\n",
    "    if isinstance(row['coor'], list):\n",
    "        # Plot lines for coordinate lists\n",
    "        line_coords = list(zip(*row['coor']))\n",
    "        ax.plot(line_coords[0], line_coords[1], marker='o', label=row['name'])\n",
    "    else:\n",
    "        # Plot single points for tuples\n",
    "        ax.plot(row['coor'][0], row['coor'][1], marker='o', label=row['name'])\n",
    "\n",
    "# Add labels and legend\n",
    "ax.set_xlabel('X-coordinate')\n",
    "ax.set_ylabel('Y-coordinate')\n",
    "ax.legend()\n",
    "\n",
    "# Show the plot\n",
    "plt.show()"
   ]
  },
  {
   "cell_type": "code",
   "execution_count": null,
   "metadata": {},
   "outputs": [],
   "source": [
    "c = [] \n",
    "for h in hypothetical_paths:\n",
    "    if(h[0]=='e_12' and (h[1]=='e_6')):\n",
    "        c.append(h)"
   ]
  },
  {
   "cell_type": "code",
   "execution_count": null,
   "metadata": {},
   "outputs": [],
   "source": [
    "print(len(hypothetical_paths))\n",
    "print(len(c))\n",
    "print(len(c) / len(hypothetical_paths) * 100)"
   ]
  },
  {
   "cell_type": "code",
   "execution_count": null,
   "metadata": {},
   "outputs": [],
   "source": [
    "#Read files\n",
    "\n",
    "folder_path = 'Elements'\n",
    "\n",
    "# Get a list of all files in the folder\n",
    "files = os.listdir(folder_path)\n",
    "\n",
    "# Filter only CSV files\n",
    "csv_files = [file for file in files if file.endswith('.csv')]\n",
    "\n",
    "# Initialize an empty DataFrame to store the combined data\n",
    "elements = pd.DataFrame()\n",
    "\n",
    "# Read each CSV file and append to the combined DataFrame\n",
    "for csv_file in csv_files:\n",
    "    file_path = os.path.join(folder_path, csv_file)\n",
    "    df = pd.read_csv(file_path,header=0, sep=';')\n",
    "    df['type'] = csv_file[:-5]\n",
    "    elements = pd.concat([elements,df])\n"
   ]
  },
  {
   "cell_type": "code",
   "execution_count": null,
   "metadata": {},
   "outputs": [],
   "source": []
  }
 ],
 "metadata": {
  "kernelspec": {
   "display_name": "Python 3.9.18 ('TPI')",
   "language": "python",
   "name": "python3"
  },
  "language_info": {
   "codemirror_mode": {
    "name": "ipython",
    "version": 3
   },
   "file_extension": ".py",
   "mimetype": "text/x-python",
   "name": "python",
   "nbconvert_exporter": "python",
   "pygments_lexer": "ipython3",
   "version": "3.9.18"
  },
  "orig_nbformat": 4,
  "vscode": {
   "interpreter": {
    "hash": "fa564d0f2a03dc94c7af0d2957412c12616e6a133e657fad4b1941849c6b5cc7"
   }
  }
 },
 "nbformat": 4,
 "nbformat_minor": 2
}
