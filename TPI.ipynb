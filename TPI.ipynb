{
 "cells": [
  {
   "cell_type": "code",
   "execution_count": 9,
   "metadata": {},
   "outputs": [],
   "source": [
    "import os\n",
    "import numpy as np\n",
    "import pandas as pd\n",
    "import ast\n",
    "import matplotlib.pyplot as plt"
   ]
  },
  {
   "cell_type": "markdown",
   "metadata": {},
   "source": [
    "# Utility Functions"
   ]
  },
  {
   "cell_type": "code",
   "execution_count": 34,
   "metadata": {},
   "outputs": [],
   "source": [
    "def Subset(E,t):\n",
    "    if(isinstance(t, list)):\n",
    "        return E[E['type'].isin(t)]\n",
    "    else:\n",
    "        return E[E.type==t]\n",
    "\n",
    "def euclidean_distance(a, b):\n",
    "    return np.linalg.norm(np.array(a) - np.array(b))\n",
    "\n",
    "def Dist(ei, ej):\n",
    "    # Convert single points to a list for uniform handling\n",
    "    if not isinstance(ei, list):\n",
    "        ei = [ei]\n",
    "    if not isinstance(ej, list):\n",
    "        ej = [ej]\n",
    "    # Calculate minimum distance\n",
    "    return min(euclidean_distance(a, b) for a in ei for b in ej)\n",
    "\n",
    "def Closest(e, S, R=np.inf):\n",
    "    min_distance = [float('inf'),float('inf')]\n",
    "    closest_point = [-1,-1]\n",
    "\n",
    "    for i,s in S.iterrows():\n",
    "        if(e.name != s.name):\n",
    "            if(isinstance(e.coor, tuple)):\n",
    "                distance = Dist(e.coor, s.coor)\n",
    "                if distance <= min_distance[0] and distance < R:\n",
    "                    min_distance[0] = distance\n",
    "                    closest_point[0] = i\n",
    "            else:\n",
    "                for coor_ind in [0,-1]:\n",
    "                    c = e.coor[coor_ind]\n",
    "                    distance = Dist(c, s.coor)\n",
    "                    if distance <= min_distance[coor_ind] and distance < R:\n",
    "                        min_distance[coor_ind] = distance\n",
    "                        closest_point[np.abs(coor_ind)] = i\n",
    "    closest_point = [i for i in closest_point if i!=-1]\n",
    "    return closest_point\n",
    "\n",
    "def AddConnectionstoElement(elements, index, connections):\n",
    "    existing_connections = elements.at[index, f'connections']\n",
    "    if(existing_connections):\n",
    "        for c in connections:\n",
    "            if(c not in existing_connections):\n",
    "                existing_connections.append(c)\n",
    "        elements.at[index, f'connections'] = existing_connections\n",
    "    else:\n",
    "        elements.at[index, f'connections'] = connections\n",
    "def RemoveConnectionstoElement(elements, index, connections):\n",
    "    existing_connections = elements.at[index, f'connections']\n",
    "    for c in connections:\n",
    "        if(c in existing_connections):\n",
    "            existing_connections.remove(c)\n",
    "    elements.at[index, f'connections'] = existing_connections\n",
    "\n",
    "def ReadFiles(folder_path, symbol='e'):\n",
    "    elements = pd.DataFrame()\n",
    "\n",
    "    for filename in sorted(os.listdir(folder_path)):\n",
    "        if filename.endswith('.csv'):\n",
    "            file_path = os.path.join(folder_path, filename)\n",
    "            print(file_path)\n",
    "\n",
    "            df = pd.read_csv(file_path, delimiter=';')\n",
    "\n",
    "            df['coor'] = df['coor'].apply(ast.literal_eval)\n",
    "            df['type'] = filename[2:-4]\n",
    "\n",
    "            elements = pd.concat([elements,df], ignore_index=True)\n",
    "    id_column = 'ID'\n",
    "    elements[id_column] = [f\"${symbol}_{i+1}$\" for i in range(len(elements))]\n",
    "    elements['connections'] = None\n",
    "    elements.insert(0, id_column, elements.pop(id_column))\n",
    "\n",
    "    return elements\n",
    "\n",
    "def PlotElements(df):\n",
    "    fig, ax = plt.subplots(figsize=(10, 8))\n",
    "\n",
    "    for index, row in df.iterrows():\n",
    "        if isinstance(row['coor'], list):\n",
    "            line_coords = list(zip(*row['coor']))\n",
    "            ax.plot(line_coords[0], line_coords[1], marker='o', label=row['ID'])\n",
    "        else:\n",
    "            ax.plot(row['coor'][0], row['coor'][1], marker='o', label=row['ID'])\n",
    "\n",
    "    ax.set_xlabel('X [m]')\n",
    "    ax.set_ylabel('Y [m]')\n",
    "    ax.legend()\n",
    "\n",
    "    plt.show()\n",
    "\n",
    "def StoreHinFile(file_path,hypothetical_paths,elements, short=False):\n",
    "    print(\"Number of hypothetical paths:\", len(hypothetical_paths))\n",
    "    with open(file_path, 'w') as fp:\n",
    "        if(short):\n",
    "            fp.write(\"\\n\".join(str(item) for item in hypothetical_paths))\n",
    "        else:\n",
    "            fp.write(\"\\n\".join(str(elements.iloc[item].ID.values) for item in hypothetical_paths))\n",
    "\n",
    "def HCustomer(H, customer):\n",
    "    H_c = []\n",
    "    for h in H:\n",
    "        if(h[0]==customer.name):\n",
    "            H_c.append(h)\n",
    "    return H_c\n",
    "\n",
    "def FindSwitches(elements, p, kind=0):\n",
    "    switches = []\n",
    "    for e in p:\n",
    "        elem = elements.loc[e]\n",
    "        if(elem.type==\"switch\"):\n",
    "            if(kind==0):\n",
    "                switches.append(e)\n",
    "            else:\n",
    "                status = 'close' if kind==1 else 'open'\n",
    "                if(elem.status==status):\n",
    "                    switches.append(e)\n",
    "    return switches\n",
    "def IsSwitchinPath(elements, p):\n",
    "    return len(FindSwitches(elements, p, 0))>0\n",
    "def IsPathActive(elements, p):\n",
    "    return len(FindSwitches(elements, p, 2))==0\n",
    "def IsPathBackup(elements, p):\n",
    "    return len(FindSwitches(elements, p, 2))>0\n",
    "\n",
    "def HCustomerActive(H, customer, elements):\n",
    "    H_c = HCustomer(H, customer)\n",
    "    H_c_a = []\n",
    "    for h in H_c:\n",
    "        if(IsPathActive(elements,h)):\n",
    "            H_c_a.append(h)\n",
    "    return H_c_a\n",
    "def HCustomerBackup(H, customer, elements):\n",
    "    H_c = HCustomer(H, customer)\n",
    "    H_c_a = []\n",
    "    for h in H_c:\n",
    "        if(IsPathBackup(elements,h)):\n",
    "            H_c_a.append(h)\n",
    "    return H_c_a\n",
    "\n",
    "def Diagnostic(H,E):\n",
    "    number_of_problems = 0\n",
    "\n",
    "    #Condition 1\n",
    "    for _,c in Subset(E, \"customer\").iterrows():\n",
    "        H_c_a = HCustomerActive(H, c, E)\n",
    "        if(len(H_c_a)>1):\n",
    "            print(f\"Customer --\\{c.ID} (index: {c.name})-- has more than 1 active path. {len(H_c_a)} paths existing: ({H_c_a})\")\n",
    "            number_of_problems += 1\n",
    "    \n",
    "    #Condition X (it is possible to add as many conditions as needed)\n",
    "\n",
    "    if(number_of_problems==0):\n",
    "        print(\"No issues found!\")\n"
   ]
  },
  {
   "cell_type": "markdown",
   "metadata": {},
   "source": [
    "# Raw Information"
   ]
  },
  {
   "cell_type": "markdown",
   "metadata": {},
   "source": [
    "- $\\mathcal{I}$ = {\n",
    "    - i_1: A document containing the DSO's list of elements, their coordinates, and their types. Some elements may be missing, and the coordinates may be inaccurate.\n",
    "\n",
    "    - i_2: The DSOs lack of information about the customers connections to the network and goal to minimise the cost of connecting customers to the grid. \n",
    "    - i_3: A technical meeting stating that for economical and efficiency factors, the connections between two elements must be not too long.\n",
    "    - i_3: Information regarding the radial configuration of the distribution network.\n",
    "    - i_4: DSOs goal to reduce energy losses by minimising the path length of each customer.\n",
    "    - i_5: The knowledge that electricity distributed from one transformer cannot be transmitted to another transformer.  \n",
    "}"
   ]
  },
  {
   "cell_type": "markdown",
   "metadata": {},
   "source": [
    "# Well-Defined Information"
   ]
  },
  {
   "cell_type": "markdown",
   "metadata": {},
   "source": [
    "- $\\mathcal{I}'$ = {\n",
    "    - $i'_1 = f_1(i_1)$: Sets of elements, their properties like coordinates and types.\n",
    "    - $i'_2 = f_2(i_2)$: Elements of type $customer$ are connected to the closest element of type $line$.\n",
    "    - $i'_3 = f_3(i_3)$: Elements of type $transformer$, $line$ and $switch$ cannot be connected to an element whose distance calculated using the elements GIS coordinates is greater than $R$.\n",
    "    - $i'_4  = f_4(i_4)$: The total length of a path, defined as the sum of the lengths of the single lines, is at most $L$.  \n",
    "}"
   ]
  },
  {
   "cell_type": "markdown",
   "metadata": {},
   "source": [
    "# Read Elements"
   ]
  },
  {
   "cell_type": "code",
   "execution_count": 11,
   "metadata": {},
   "outputs": [
    {
     "name": "stdout",
     "output_type": "stream",
     "text": [
      "RealElements/1_transformer.csv\n",
      "RealElements/2_line.csv\n",
      "RealElements/3_switch.csv\n",
      "RealElements/4_customer.csv\n",
      "DSOElements/1_transformer.csv\n",
      "DSOElements/2_line.csv\n",
      "DSOElements/3_switch.csv\n",
      "DSOElements/4_customer.csv\n"
     ]
    }
   ],
   "source": [
    "#Set of all Real Elements. These elements represent all the elements that is possible to find in the academic example\n",
    "real_elements = ReadFiles(\"RealElements\")\n",
    "real_types = set(real_elements.type)\n",
    "#Set of all DSO Elements. These elements represent the elements that is DSO knows about\n",
    "elements = ReadFiles(\"DSOElements\", symbol=\"hat{e}\")\n",
    "types = set(elements.type)"
   ]
  },
  {
   "cell_type": "code",
   "execution_count": 12,
   "metadata": {},
   "outputs": [
    {
     "data": {
      "text/html": [
       "<div>\n",
       "<style scoped>\n",
       "    .dataframe tbody tr th:only-of-type {\n",
       "        vertical-align: middle;\n",
       "    }\n",
       "\n",
       "    .dataframe tbody tr th {\n",
       "        vertical-align: top;\n",
       "    }\n",
       "\n",
       "    .dataframe thead th {\n",
       "        text-align: right;\n",
       "    }\n",
       "</style>\n",
       "<table border=\"1\" class=\"dataframe\">\n",
       "  <thead>\n",
       "    <tr style=\"text-align: right;\">\n",
       "      <th></th>\n",
       "      <th>ID</th>\n",
       "      <th>coor</th>\n",
       "      <th>type</th>\n",
       "      <th>status</th>\n",
       "      <th>connections</th>\n",
       "    </tr>\n",
       "  </thead>\n",
       "  <tbody>\n",
       "    <tr>\n",
       "      <th>0</th>\n",
       "      <td>$e_1$</td>\n",
       "      <td>(232, 299)</td>\n",
       "      <td>transformer</td>\n",
       "      <td>NaN</td>\n",
       "      <td>None</td>\n",
       "    </tr>\n",
       "    <tr>\n",
       "      <th>1</th>\n",
       "      <td>$e_2$</td>\n",
       "      <td>(399, 196)</td>\n",
       "      <td>transformer</td>\n",
       "      <td>NaN</td>\n",
       "      <td>None</td>\n",
       "    </tr>\n",
       "    <tr>\n",
       "      <th>2</th>\n",
       "      <td>$e_3$</td>\n",
       "      <td>[(232, 299), (241, 298)]</td>\n",
       "      <td>line</td>\n",
       "      <td>NaN</td>\n",
       "      <td>None</td>\n",
       "    </tr>\n",
       "    <tr>\n",
       "      <th>3</th>\n",
       "      <td>$e_4$</td>\n",
       "      <td>[(241, 298), (327, 297)]</td>\n",
       "      <td>line</td>\n",
       "      <td>NaN</td>\n",
       "      <td>None</td>\n",
       "    </tr>\n",
       "    <tr>\n",
       "      <th>4</th>\n",
       "      <td>$e_5$</td>\n",
       "      <td>[(327, 297), (324, 287)]</td>\n",
       "      <td>line</td>\n",
       "      <td>NaN</td>\n",
       "      <td>None</td>\n",
       "    </tr>\n",
       "    <tr>\n",
       "      <th>5</th>\n",
       "      <td>$e_6$</td>\n",
       "      <td>[(388, 295), (393, 292)]</td>\n",
       "      <td>line</td>\n",
       "      <td>NaN</td>\n",
       "      <td>None</td>\n",
       "    </tr>\n",
       "    <tr>\n",
       "      <th>6</th>\n",
       "      <td>$e_7$</td>\n",
       "      <td>[(388, 295), (390, 193)]</td>\n",
       "      <td>line</td>\n",
       "      <td>NaN</td>\n",
       "      <td>None</td>\n",
       "    </tr>\n",
       "    <tr>\n",
       "      <th>7</th>\n",
       "      <td>$e_8$</td>\n",
       "      <td>[(390, 193), (399, 196)]</td>\n",
       "      <td>line</td>\n",
       "      <td>NaN</td>\n",
       "      <td>None</td>\n",
       "    </tr>\n",
       "    <tr>\n",
       "      <th>8</th>\n",
       "      <td>$e_9$</td>\n",
       "      <td>[(390, 193), (376, 191)]</td>\n",
       "      <td>line</td>\n",
       "      <td>NaN</td>\n",
       "      <td>None</td>\n",
       "    </tr>\n",
       "    <tr>\n",
       "      <th>9</th>\n",
       "      <td>$e_10$</td>\n",
       "      <td>[(376, 191), (315, 191)]</td>\n",
       "      <td>line</td>\n",
       "      <td>NaN</td>\n",
       "      <td>None</td>\n",
       "    </tr>\n",
       "    <tr>\n",
       "      <th>10</th>\n",
       "      <td>$e_11$</td>\n",
       "      <td>[(315, 191), (295, 189)]</td>\n",
       "      <td>line</td>\n",
       "      <td>NaN</td>\n",
       "      <td>None</td>\n",
       "    </tr>\n",
       "    <tr>\n",
       "      <th>11</th>\n",
       "      <td>$e_12$</td>\n",
       "      <td>[(295, 189), (299, 207)]</td>\n",
       "      <td>line</td>\n",
       "      <td>NaN</td>\n",
       "      <td>None</td>\n",
       "    </tr>\n",
       "    <tr>\n",
       "      <th>12</th>\n",
       "      <td>$e_13$</td>\n",
       "      <td>[(295, 189), (268, 169), (235, 190)]</td>\n",
       "      <td>line</td>\n",
       "      <td>NaN</td>\n",
       "      <td>None</td>\n",
       "    </tr>\n",
       "    <tr>\n",
       "      <th>13</th>\n",
       "      <td>$e_14$</td>\n",
       "      <td>[(235, 190), (239, 282)]</td>\n",
       "      <td>line</td>\n",
       "      <td>NaN</td>\n",
       "      <td>None</td>\n",
       "    </tr>\n",
       "    <tr>\n",
       "      <th>14</th>\n",
       "      <td>$e_15$</td>\n",
       "      <td>[(239, 282), (241, 298)]</td>\n",
       "      <td>line</td>\n",
       "      <td>NaN</td>\n",
       "      <td>None</td>\n",
       "    </tr>\n",
       "    <tr>\n",
       "      <th>15</th>\n",
       "      <td>$e_16$</td>\n",
       "      <td>(376, 191)</td>\n",
       "      <td>switch</td>\n",
       "      <td>open</td>\n",
       "      <td>None</td>\n",
       "    </tr>\n",
       "    <tr>\n",
       "      <th>16</th>\n",
       "      <td>$e_17$</td>\n",
       "      <td>(315, 191)</td>\n",
       "      <td>switch</td>\n",
       "      <td>open</td>\n",
       "      <td>None</td>\n",
       "    </tr>\n",
       "    <tr>\n",
       "      <th>17</th>\n",
       "      <td>$e_18$</td>\n",
       "      <td>(239, 282)</td>\n",
       "      <td>switch</td>\n",
       "      <td>close</td>\n",
       "      <td>None</td>\n",
       "    </tr>\n",
       "    <tr>\n",
       "      <th>18</th>\n",
       "      <td>$e_19$</td>\n",
       "      <td>(324, 287)</td>\n",
       "      <td>customer</td>\n",
       "      <td>NaN</td>\n",
       "      <td>None</td>\n",
       "    </tr>\n",
       "    <tr>\n",
       "      <th>19</th>\n",
       "      <td>$e_20$</td>\n",
       "      <td>(393, 292)</td>\n",
       "      <td>customer</td>\n",
       "      <td>NaN</td>\n",
       "      <td>None</td>\n",
       "    </tr>\n",
       "    <tr>\n",
       "      <th>20</th>\n",
       "      <td>$e_21$</td>\n",
       "      <td>(299, 207)</td>\n",
       "      <td>customer</td>\n",
       "      <td>NaN</td>\n",
       "      <td>None</td>\n",
       "    </tr>\n",
       "  </tbody>\n",
       "</table>\n",
       "</div>"
      ],
      "text/plain": [
       "        ID                                  coor         type status  \\\n",
       "0    $e_1$                            (232, 299)  transformer    NaN   \n",
       "1    $e_2$                            (399, 196)  transformer    NaN   \n",
       "2    $e_3$              [(232, 299), (241, 298)]         line    NaN   \n",
       "3    $e_4$              [(241, 298), (327, 297)]         line    NaN   \n",
       "4    $e_5$              [(327, 297), (324, 287)]         line    NaN   \n",
       "5    $e_6$              [(388, 295), (393, 292)]         line    NaN   \n",
       "6    $e_7$              [(388, 295), (390, 193)]         line    NaN   \n",
       "7    $e_8$              [(390, 193), (399, 196)]         line    NaN   \n",
       "8    $e_9$              [(390, 193), (376, 191)]         line    NaN   \n",
       "9   $e_10$              [(376, 191), (315, 191)]         line    NaN   \n",
       "10  $e_11$              [(315, 191), (295, 189)]         line    NaN   \n",
       "11  $e_12$              [(295, 189), (299, 207)]         line    NaN   \n",
       "12  $e_13$  [(295, 189), (268, 169), (235, 190)]         line    NaN   \n",
       "13  $e_14$              [(235, 190), (239, 282)]         line    NaN   \n",
       "14  $e_15$              [(239, 282), (241, 298)]         line    NaN   \n",
       "15  $e_16$                            (376, 191)       switch   open   \n",
       "16  $e_17$                            (315, 191)       switch   open   \n",
       "17  $e_18$                            (239, 282)       switch  close   \n",
       "18  $e_19$                            (324, 287)     customer    NaN   \n",
       "19  $e_20$                            (393, 292)     customer    NaN   \n",
       "20  $e_21$                            (299, 207)     customer    NaN   \n",
       "\n",
       "   connections  \n",
       "0         None  \n",
       "1         None  \n",
       "2         None  \n",
       "3         None  \n",
       "4         None  \n",
       "5         None  \n",
       "6         None  \n",
       "7         None  \n",
       "8         None  \n",
       "9         None  \n",
       "10        None  \n",
       "11        None  \n",
       "12        None  \n",
       "13        None  \n",
       "14        None  \n",
       "15        None  \n",
       "16        None  \n",
       "17        None  \n",
       "18        None  \n",
       "19        None  \n",
       "20        None  "
      ]
     },
     "execution_count": 12,
     "metadata": {},
     "output_type": "execute_result"
    }
   ],
   "source": [
    "real_elements"
   ]
  },
  {
   "cell_type": "code",
   "execution_count": 13,
   "metadata": {},
   "outputs": [
    {
     "data": {
      "image/png": "[encoded data removed]",
      "text/plain": [
       "<Figure size 1000x800 with 1 Axes>"
      ]
     },
     "metadata": {},
     "output_type": "display_data"
    }
   ],
   "source": [
    "PlotElements(real_elements)"
   ]
  },
  {
   "cell_type": "code",
   "execution_count": 14,
   "metadata": {},
   "outputs": [
    {
     "data": {
      "text/html": [
       "<div>\n",
       "<style scoped>\n",
       "    .dataframe tbody tr th:only-of-type {\n",
       "        vertical-align: middle;\n",
       "    }\n",
       "\n",
       "    .dataframe tbody tr th {\n",
       "        vertical-align: top;\n",
       "    }\n",
       "\n",
       "    .dataframe thead th {\n",
       "        text-align: right;\n",
       "    }\n",
       "</style>\n",
       "<table border=\"1\" class=\"dataframe\">\n",
       "  <thead>\n",
       "    <tr style=\"text-align: right;\">\n",
       "      <th></th>\n",
       "      <th>ID</th>\n",
       "      <th>coor</th>\n",
       "      <th>type</th>\n",
       "      <th>status</th>\n",
       "      <th>connections</th>\n",
       "    </tr>\n",
       "  </thead>\n",
       "  <tbody>\n",
       "    <tr>\n",
       "      <th>0</th>\n",
       "      <td>$hat{e}_1$</td>\n",
       "      <td>(230, 297)</td>\n",
       "      <td>transformer</td>\n",
       "      <td>NaN</td>\n",
       "      <td>None</td>\n",
       "    </tr>\n",
       "    <tr>\n",
       "      <th>1</th>\n",
       "      <td>$hat{e}_2$</td>\n",
       "      <td>(401, 194)</td>\n",
       "      <td>transformer</td>\n",
       "      <td>NaN</td>\n",
       "      <td>None</td>\n",
       "    </tr>\n",
       "    <tr>\n",
       "      <th>2</th>\n",
       "      <td>$hat{e}_3$</td>\n",
       "      <td>[(240, 297), (328, 296)]</td>\n",
       "      <td>line</td>\n",
       "      <td>NaN</td>\n",
       "      <td>None</td>\n",
       "    </tr>\n",
       "    <tr>\n",
       "      <th>3</th>\n",
       "      <td>$hat{e}_4$</td>\n",
       "      <td>[(388, 295), (391, 193)]</td>\n",
       "      <td>line</td>\n",
       "      <td>NaN</td>\n",
       "      <td>None</td>\n",
       "    </tr>\n",
       "    <tr>\n",
       "      <th>4</th>\n",
       "      <td>$hat{e}_5$</td>\n",
       "      <td>[(390, 193), (374, 189)]</td>\n",
       "      <td>line</td>\n",
       "      <td>NaN</td>\n",
       "      <td>None</td>\n",
       "    </tr>\n",
       "    <tr>\n",
       "      <th>5</th>\n",
       "      <td>$hat{e}_6$</td>\n",
       "      <td>[(374, 189), (315, 191)]</td>\n",
       "      <td>line</td>\n",
       "      <td>NaN</td>\n",
       "      <td>None</td>\n",
       "    </tr>\n",
       "    <tr>\n",
       "      <th>6</th>\n",
       "      <td>$hat{e}_7$</td>\n",
       "      <td>[(301, 189), (235, 189)]</td>\n",
       "      <td>line</td>\n",
       "      <td>NaN</td>\n",
       "      <td>None</td>\n",
       "    </tr>\n",
       "    <tr>\n",
       "      <th>7</th>\n",
       "      <td>$hat{e}_8$</td>\n",
       "      <td>[(233, 189), (242, 282)]</td>\n",
       "      <td>line</td>\n",
       "      <td>NaN</td>\n",
       "      <td>None</td>\n",
       "    </tr>\n",
       "    <tr>\n",
       "      <th>8</th>\n",
       "      <td>$hat{e}_9$</td>\n",
       "      <td>(374, 189)</td>\n",
       "      <td>switch</td>\n",
       "      <td>close</td>\n",
       "      <td>None</td>\n",
       "    </tr>\n",
       "    <tr>\n",
       "      <th>9</th>\n",
       "      <td>$hat{e}_10$</td>\n",
       "      <td>(321, 289)</td>\n",
       "      <td>customer</td>\n",
       "      <td>NaN</td>\n",
       "      <td>None</td>\n",
       "    </tr>\n",
       "    <tr>\n",
       "      <th>10</th>\n",
       "      <td>$hat{e}_11$</td>\n",
       "      <td>(393, 292)</td>\n",
       "      <td>customer</td>\n",
       "      <td>NaN</td>\n",
       "      <td>None</td>\n",
       "    </tr>\n",
       "    <tr>\n",
       "      <th>11</th>\n",
       "      <td>$hat{e}_12$</td>\n",
       "      <td>(320, 196)</td>\n",
       "      <td>customer</td>\n",
       "      <td>NaN</td>\n",
       "      <td>None</td>\n",
       "    </tr>\n",
       "  </tbody>\n",
       "</table>\n",
       "</div>"
      ],
      "text/plain": [
       "             ID                      coor         type status connections\n",
       "0    $hat{e}_1$                (230, 297)  transformer    NaN        None\n",
       "1    $hat{e}_2$                (401, 194)  transformer    NaN        None\n",
       "2    $hat{e}_3$  [(240, 297), (328, 296)]         line    NaN        None\n",
       "3    $hat{e}_4$  [(388, 295), (391, 193)]         line    NaN        None\n",
       "4    $hat{e}_5$  [(390, 193), (374, 189)]         line    NaN        None\n",
       "5    $hat{e}_6$  [(374, 189), (315, 191)]         line    NaN        None\n",
       "6    $hat{e}_7$  [(301, 189), (235, 189)]         line    NaN        None\n",
       "7    $hat{e}_8$  [(233, 189), (242, 282)]         line    NaN        None\n",
       "8    $hat{e}_9$                (374, 189)       switch  close        None\n",
       "9   $hat{e}_10$                (321, 289)     customer    NaN        None\n",
       "10  $hat{e}_11$                (393, 292)     customer    NaN        None\n",
       "11  $hat{e}_12$                (320, 196)     customer    NaN        None"
      ]
     },
     "execution_count": 14,
     "metadata": {},
     "output_type": "execute_result"
    }
   ],
   "source": [
    "elements"
   ]
  },
  {
   "cell_type": "code",
   "execution_count": 15,
   "metadata": {},
   "outputs": [
    {
     "data": {
      "image/png": "[encoded data removed]",
      "text/plain": [
       "<Figure size 1000x800 with 1 Axes>"
      ]
     },
     "metadata": {},
     "output_type": "display_data"
    }
   ],
   "source": [
    "PlotElements(elements)"
   ]
  },
  {
   "cell_type": "markdown",
   "metadata": {},
   "source": [
    "# Hypothetical Paths"
   ]
  },
  {
   "cell_type": "code",
   "execution_count": 16,
   "metadata": {},
   "outputs": [
    {
     "name": "stdout",
     "output_type": "stream",
     "text": [
      "E set: [ 0  1  2  3  4  5  6  7  8  9 10 11]. Len: 12\n",
      "C set: [ 9 10 11]. Len: 3\n",
      "T set: [0 1]. Len: 2\n",
      "R set: [2, 3, 4, 5, 6, 7, 8]. Len: 7\n"
     ]
    }
   ],
   "source": [
    "from itertools import permutations\n",
    "\n",
    "def calculate_hypothetical_paths(E, C, T):\n",
    "    R = list(set(E) - set(C) - set(T))\n",
    "    R.sort()\n",
    "    print(f\"E set: {E}. Len: {len(E)}\")\n",
    "    print(f\"C set: {C}. Len: {len(C)}\")\n",
    "    print(f\"T set: {T}. Len: {len(T)}\")\n",
    "    print(f\"R set: {R}. Len: {len(R)}\")\n",
    "    H = []\n",
    "\n",
    "    for i in range(len(R) + 1):\n",
    "        for permutation in permutations(R, i):\n",
    "            for c in C:\n",
    "                for t in T:\n",
    "                    path = [c] + [p for p in permutation] + [t]\n",
    "                    H.append(path)\n",
    "\n",
    "    return H\n",
    "\n",
    "E = elements.index.values\n",
    "C = Subset(elements,'customer').index.values\n",
    "T = Subset(elements,'transformer').index.values\n",
    "\n",
    "hypothetical_paths = calculate_hypothetical_paths(E, C, T)"
   ]
  },
  {
   "cell_type": "code",
   "execution_count": 17,
   "metadata": {},
   "outputs": [
    {
     "name": "stdout",
     "output_type": "stream",
     "text": [
      "Number of hypothetical paths: 82200\n"
     ]
    }
   ],
   "source": [
    "StoreHinFile('hypotheticalpaths.txt', hypothetical_paths, elements)"
   ]
  },
  {
   "cell_type": "markdown",
   "metadata": {},
   "source": [
    "# Hypothetical Paths Compatible with the Well-Defined Information"
   ]
  },
  {
   "cell_type": "markdown",
   "metadata": {},
   "source": [
    "## $\\mathcal{H}^{i'_2}$"
   ]
  },
  {
   "cell_type": "code",
   "execution_count": 18,
   "metadata": {},
   "outputs": [],
   "source": [
    "for i,c in Subset(elements, \"customer\").iterrows():\n",
    "    possible_elements = Subset(elements, list(types.difference([\"customer\"])))\n",
    "    closest_element = Closest(c, possible_elements)\n",
    "    elements.at[i, 'connections'] = closest_element\n",
    "    elements.at[closest_element[0], 'connections'] = [i]"
   ]
  },
  {
   "cell_type": "code",
   "execution_count": 19,
   "metadata": {},
   "outputs": [
    {
     "name": "stdout",
     "output_type": "stream",
     "text": [
      "Length H before: 82200\n",
      "Length H after: 11742. Reduction: 85.72%\n"
     ]
    }
   ],
   "source": [
    "hp = hypothetical_paths\n",
    "compatible_hp = list(hp)\n",
    "length_H_before = len(hp)\n",
    "print(f'Length H before: {length_H_before}')\n",
    "\n",
    "paths_removed = 0\n",
    "for id_path,h in enumerate(hp):\n",
    "    for id_customer,c in Subset(elements, \"customer\").iterrows():\n",
    "        if(h[0]==id_customer and h[1]!=c['connections'][0]):\n",
    "            compatible_hp.pop(id_path-paths_removed)\n",
    "            paths_removed+=1\n",
    "length_H_after = len(compatible_hp)\n",
    "print(f'Length H after: {length_H_after}. Reduction: {((length_H_before-length_H_after)/length_H_before*100):.2f}%')\n",
    "compatible_hypothetical_paths_i2 = compatible_hp"
   ]
  },
  {
   "cell_type": "code",
   "execution_count": 20,
   "metadata": {},
   "outputs": [
    {
     "name": "stdout",
     "output_type": "stream",
     "text": [
      "Number of hypothetical paths: 11742\n"
     ]
    }
   ],
   "source": [
    "StoreHinFile('compatible_hypothetical_paths_i2.txt', compatible_hypothetical_paths_i2, elements)"
   ]
  },
  {
   "cell_type": "markdown",
   "metadata": {},
   "source": [
    "## $\\mathcal{H}^{i'_2, i'_3}$"
   ]
  },
  {
   "cell_type": "code",
   "execution_count": 21,
   "metadata": {},
   "outputs": [],
   "source": [
    "R = 40\n",
    "for t in list(types.difference([\"customer\"])):\n",
    "    for index,elem in Subset(elements, t).iterrows():\n",
    "        possible_elements = Subset(elements, list(types.difference([\"customer\"])))\n",
    "        closest_elements = Closest(elem, possible_elements, R=R)\n",
    "        \n",
    "        #Adding connections to element: elem\n",
    "        AddConnectionstoElement(elements, index, closest_elements)\n",
    "\n",
    "        #Adding connections to element(s) in closest_elements\n",
    "        for c in closest_elements:\n",
    "            AddConnectionstoElement(elements, c, [index])"
   ]
  },
  {
   "cell_type": "code",
   "execution_count": 22,
   "metadata": {},
   "outputs": [
    {
     "name": "stdout",
     "output_type": "stream",
     "text": [
      "Length H before: 11742\n",
      "Length H after: 62. Reduction: 99.47%\n"
     ]
    }
   ],
   "source": [
    "hp = compatible_hypothetical_paths_i2\n",
    "compatible_hp = list(hp)\n",
    "length_H_before = len(hp)\n",
    "print(f'Length H before: {length_H_before}')\n",
    "ds = []\n",
    "paths_removed = 0\n",
    "for id_path,h in enumerate(hp):\n",
    "    for i in range(1,len(h)-1):\n",
    "        h_ei = elements.iloc[h[i]].coor\n",
    "        h_ej = elements.iloc[h[i+1]].coor\n",
    "        d = Dist(h_ei,h_ej)\n",
    "        ds.append(d)\n",
    "        if(d>R):\n",
    "            compatible_hp.pop(id_path-paths_removed)\n",
    "            paths_removed+=1\n",
    "            break\n",
    "            \n",
    "length_H_after = len(compatible_hp)\n",
    "print(f'Length H after: {length_H_after}. Reduction: {((length_H_before-length_H_after)/length_H_before*100):.2f}%')\n",
    "compatible_hypothetical_paths_i2i3 = compatible_hp"
   ]
  },
  {
   "cell_type": "code",
   "execution_count": 23,
   "metadata": {},
   "outputs": [
    {
     "name": "stdout",
     "output_type": "stream",
     "text": [
      "Number of hypothetical paths: 62\n"
     ]
    }
   ],
   "source": [
    "StoreHinFile('compatible_hypothetical_paths_i2i3.txt', compatible_hypothetical_paths_i2i3, elements)"
   ]
  },
  {
   "cell_type": "markdown",
   "metadata": {},
   "source": [
    "## $\\mathcal{H}^{i'_2, i'_3, i'_4}$"
   ]
  },
  {
   "cell_type": "code",
   "execution_count": 24,
   "metadata": {},
   "outputs": [
    {
     "name": "stdout",
     "output_type": "stream",
     "text": [
      "Length H before: 62\n",
      "Length H after: 46. Reduction: 25.81%\n"
     ]
    }
   ],
   "source": [
    "L = 400\n",
    "\n",
    "hp = compatible_hypothetical_paths_i2i3\n",
    "compatible_hp = list(hp)\n",
    "length_H_before = len(hp)\n",
    "print(f'Length H before: {length_H_before}')\n",
    "\n",
    "paths_removed = 0\n",
    "for id_path,h in enumerate(hp):\n",
    "    l = 0\n",
    "    for i in range(len(h)-1):\n",
    "        h_ei = elements.iloc[h[i]].coor\n",
    "        h_ej = elements.iloc[h[i+1]].coor\n",
    "        d = Dist(h_ei,h_ej)\n",
    "        l += d\n",
    "        if(isinstance(h_ei,list)):\n",
    "            l+=Dist(h_ei[0],h_ei[-1])\n",
    "\n",
    "    if(l>L):\n",
    "        compatible_hp.pop(id_path-paths_removed)\n",
    "        paths_removed+=1\n",
    "            \n",
    "length_H_after = len(compatible_hp)\n",
    "print(f'Length H after: {length_H_after}. Reduction: {((length_H_before-length_H_after)/length_H_before*100):.2f}%')\n",
    "compatible_hypothetical_paths_i2i3i4 = compatible_hp"
   ]
  },
  {
   "cell_type": "code",
   "execution_count": 25,
   "metadata": {},
   "outputs": [
    {
     "name": "stdout",
     "output_type": "stream",
     "text": [
      "Number of hypothetical paths: 46\n"
     ]
    }
   ],
   "source": [
    "StoreHinFile('compatible_hypothetical_paths_i2i3i4.txt', compatible_hypothetical_paths_i2i3i4, elements)"
   ]
  },
  {
   "cell_type": "markdown",
   "metadata": {},
   "source": [
    "## $\\mathcal{H}^{\\mathcal{I}'}$"
   ]
  },
  {
   "cell_type": "code",
   "execution_count": 26,
   "metadata": {},
   "outputs": [
    {
     "name": "stdout",
     "output_type": "stream",
     "text": [
      "Length H before: 46\n",
      "Length H after: 4. Reduction: 91.30%\n"
     ]
    }
   ],
   "source": [
    "hp = compatible_hypothetical_paths_i2i3i4\n",
    "compatible_hp = list(hp)\n",
    "length_H_before = len(hp)\n",
    "print(f'Length H before: {length_H_before}')\n",
    "\n",
    "paths_removed = 0\n",
    "for id_path,h in enumerate(hp):\n",
    "    l = 0\n",
    "    for i in range(len(h)-1):\n",
    "        h_ei = elements.iloc[h[i]]\n",
    "        h_ej = elements.iloc[h[i+1]]\n",
    "        if(h[i+1] not in h_ei.connections):\n",
    "            compatible_hp.pop(id_path-paths_removed)\n",
    "            paths_removed+=1\n",
    "            break\n",
    "            \n",
    "length_H_after = len(compatible_hp)\n",
    "print(f'Length H after: {length_H_after}. Reduction: {((length_H_before-length_H_after)/length_H_before*100):.2f}%')\n",
    "compatible_hypothetical_paths_I = compatible_hp"
   ]
  },
  {
   "cell_type": "code",
   "execution_count": 27,
   "metadata": {},
   "outputs": [
    {
     "name": "stdout",
     "output_type": "stream",
     "text": [
      "Number of hypothetical paths: 4\n"
     ]
    }
   ],
   "source": [
    "StoreHinFile(\"compatible_hypothetical_paths_I'.txt\", compatible_hypothetical_paths_I, elements)"
   ]
  },
  {
   "cell_type": "markdown",
   "metadata": {},
   "source": [
    "# Diagnostic Function"
   ]
  },
  {
   "cell_type": "code",
   "execution_count": 28,
   "metadata": {},
   "outputs": [
    {
     "name": "stdout",
     "output_type": "stream",
     "text": [
      "Customer --\\$hat{e}_12$ (index: 11)-- has more than 1 active path. 2 paths existing: ([[11, 5, 6, 7, 2, 0], [11, 5, 8, 4, 3, 1]])\n"
     ]
    }
   ],
   "source": [
    "Diagnostic(compatible_hypothetical_paths_I, elements)"
   ]
  },
  {
   "cell_type": "markdown",
   "metadata": {},
   "source": [
    "## Adjusting Well-Defined information"
   ]
  },
  {
   "cell_type": "markdown",
   "metadata": {},
   "source": [
    "- $i'_5  = f_5(i_5)$: Element of type $switch$ location and status are chosen such that no customer can be supplied by no more than one transformer."
   ]
  },
  {
   "cell_type": "markdown",
   "metadata": {},
   "source": [
    "## New $\\mathcal{H}^{\\mathcal{I}'}$"
   ]
  },
  {
   "cell_type": "code",
   "execution_count": 29,
   "metadata": {},
   "outputs": [],
   "source": [
    "from copy import deepcopy\n",
    "H_c_a = deepcopy(HCustomerActive(compatible_hypothetical_paths_I, elements.loc[11], elements))\n",
    "\n",
    "for index in range(len(H_c_a[0])):\n",
    "    found = False\n",
    "    elem = []\n",
    "    for h in H_c_a:\n",
    "        if(elem==[]):\n",
    "            elem.append(h[index])\n",
    "        elif(h[index] not in elem):\n",
    "            found = True\n",
    "            break\n",
    "    if(found):\n",
    "        break\n",
    "\n",
    "#add switch\n",
    "for h in H_c_a:\n",
    "    elements_possibility = deepcopy(elements)\n",
    "    if(IsSwitchinPath(elements,h)==False):\n",
    "        new_switch = {\"ID\":\"hat{e}\"+str(len(elements)+1), \"coor\": elements.at[h[index-1], 'coor'][1], \"type\":'switch', \"status\":\"open\", \"connections\":[h[index-1], h[index]]}\n",
    "        RemoveConnectionstoElement(elements, h[index-1], [h[index]])\n",
    "        RemoveConnectionstoElement(elements, h[index], [h[index-1]])\n",
    "        elements_possibility = pd.concat([elements_possibility,pd.DataFrame([new_switch])], ignore_index=True)\n",
    "        compatible_hypothetical_paths_I.remove(h)\n",
    "        h.insert(index, len(elements_possibility)-1)\n",
    "        compatible_hypothetical_paths_I.append(h)\n",
    "        break\n",
    "elements = elements_possibility"
   ]
  },
  {
   "cell_type": "code",
   "execution_count": 35,
   "metadata": {},
   "outputs": [
    {
     "name": "stdout",
     "output_type": "stream",
     "text": [
      "No issues found!\n"
     ]
    }
   ],
   "source": [
    "Diagnostic(compatible_hypothetical_paths_I, elements)"
   ]
  },
  {
   "cell_type": "markdown",
   "metadata": {},
   "source": [
    "# $\\mathcal{H}^{\\mathcal{I}'}_c$, $\\mathcal{H}^{\\mathcal{I}'}_{c,a}$ and $\\mathcal{H}^{\\mathcal{I}'}_{c,b}$"
   ]
  },
  {
   "cell_type": "code",
   "execution_count": 31,
   "metadata": {},
   "outputs": [
    {
     "name": "stdout",
     "output_type": "stream",
     "text": [
      "Customer: $hat{e}_10$\n",
      "['$hat{e}_10$', '$hat{e}_3$', '$hat{e}_1$']\n",
      "\n",
      "Customer: $hat{e}_11$\n",
      "['$hat{e}_11$', '$hat{e}_4$', '$hat{e}_2$']\n",
      "\n",
      "Customer: $hat{e}_12$\n",
      "['$hat{e}_12$', '$hat{e}_6$', '$hat{e}_9$', '$hat{e}_5$', '$hat{e}_4$', '$hat{e}_2$']\n",
      "['$hat{e}_12$', '$hat{e}_6$', 'hat{e}13', '$hat{e}_7$', '$hat{e}_8$', '$hat{e}_3$', '$hat{e}_1$']\n",
      "\n"
     ]
    }
   ],
   "source": [
    "for _,c in Subset(elements, \"customer\").iterrows():\n",
    "    print(f'Customer: {c.ID}')\n",
    "    for h in HCustomer(compatible_hypothetical_paths_I, c):\n",
    "        print([elements.loc[i].ID for i in h])\n",
    "    print()"
   ]
  },
  {
   "cell_type": "code",
   "execution_count": 32,
   "metadata": {},
   "outputs": [
    {
     "name": "stdout",
     "output_type": "stream",
     "text": [
      "Customer: $hat{e}_10$\n",
      "['$hat{e}_10$', '$hat{e}_3$', '$hat{e}_1$']\n",
      "\n",
      "Customer: $hat{e}_11$\n",
      "['$hat{e}_11$', '$hat{e}_4$', '$hat{e}_2$']\n",
      "\n",
      "Customer: $hat{e}_12$\n",
      "['$hat{e}_12$', '$hat{e}_6$', '$hat{e}_9$', '$hat{e}_5$', '$hat{e}_4$', '$hat{e}_2$']\n",
      "\n"
     ]
    }
   ],
   "source": [
    "for _,c in Subset(elements, \"customer\").iterrows():\n",
    "    print(f'Customer: {c.ID}')\n",
    "    for h in HCustomerActive(compatible_hypothetical_paths_I, c, elements):\n",
    "        print([elements.loc[i].ID for i in h])\n",
    "    print()"
   ]
  },
  {
   "cell_type": "code",
   "execution_count": 33,
   "metadata": {},
   "outputs": [
    {
     "name": "stdout",
     "output_type": "stream",
     "text": [
      "Customer: $hat{e}_10$\n",
      "\n",
      "Customer: $hat{e}_11$\n",
      "\n",
      "Customer: $hat{e}_12$\n",
      "['$hat{e}_12$', '$hat{e}_6$', 'hat{e}13', '$hat{e}_7$', '$hat{e}_8$', '$hat{e}_3$', '$hat{e}_1$']\n",
      "\n"
     ]
    }
   ],
   "source": [
    "for _,c in Subset(elements, \"customer\").iterrows():\n",
    "    print(f'Customer: {c.ID}')\n",
    "    for h in HCustomerBackup(compatible_hypothetical_paths_I, c, elements):\n",
    "        print([elements.loc[i].ID for i in h])\n",
    "    print()"
   ]
  },
  {
   "cell_type": "code",
   "execution_count": null,
   "metadata": {},
   "outputs": [],
   "source": []
  }
 ],
 "metadata": {
  "kernelspec": {
   "display_name": "Python 3.9.18 ('TPI')",
   "language": "python",
   "name": "python3"
  },
  "language_info": {
   "codemirror_mode": {
    "name": "ipython",
    "version": 3
   },
   "file_extension": ".py",
   "mimetype": "text/x-python",
   "name": "python",
   "nbconvert_exporter": "python",
   "pygments_lexer": "ipython3",
   "version": "3.9.18"
  },
  "orig_nbformat": 4,
  "vscode": {
   "interpreter": {
    "hash": "fa564d0f2a03dc94c7af0d2957412c12616e6a133e657fad4b1941849c6b5cc7"
   }
  }
 },
 "nbformat": 4,
 "nbformat_minor": 2
}
